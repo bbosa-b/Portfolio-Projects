{
 "cells": [
  {
   "cell_type": "code",
   "execution_count": 523,
   "metadata": {},
   "outputs": [],
   "source": [
    "import pandas as pd\n",
    "import numpy as np\n",
    "import matplotlib as plt\n",
    "import seaborn as sns"
   ]
  },
  {
   "cell_type": "code",
   "execution_count": 524,
   "metadata": {},
   "outputs": [
    {
     "data": {
      "text/html": [
       "<div>\n",
       "<style scoped>\n",
       "    .dataframe tbody tr th:only-of-type {\n",
       "        vertical-align: middle;\n",
       "    }\n",
       "\n",
       "    .dataframe tbody tr th {\n",
       "        vertical-align: top;\n",
       "    }\n",
       "\n",
       "    .dataframe thead th {\n",
       "        text-align: right;\n",
       "    }\n",
       "</style>\n",
       "<table border=\"1\" class=\"dataframe\">\n",
       "  <thead>\n",
       "    <tr style=\"text-align: right;\">\n",
       "      <th></th>\n",
       "      <th>Unnamed: 0</th>\n",
       "      <th>name</th>\n",
       "      <th>Gender</th>\n",
       "      <th>Eye color</th>\n",
       "      <th>Race</th>\n",
       "      <th>Hair color</th>\n",
       "      <th>Height</th>\n",
       "      <th>Publisher</th>\n",
       "      <th>Skin color</th>\n",
       "      <th>Alignment</th>\n",
       "      <th>Weight</th>\n",
       "    </tr>\n",
       "  </thead>\n",
       "  <tbody>\n",
       "    <tr>\n",
       "      <th>0</th>\n",
       "      <td>0</td>\n",
       "      <td>A-Bomb</td>\n",
       "      <td>Male</td>\n",
       "      <td>yellow</td>\n",
       "      <td>Human</td>\n",
       "      <td>No Hair</td>\n",
       "      <td>203.0</td>\n",
       "      <td>Marvel Comics</td>\n",
       "      <td>-</td>\n",
       "      <td>good</td>\n",
       "      <td>441.0</td>\n",
       "    </tr>\n",
       "    <tr>\n",
       "      <th>1</th>\n",
       "      <td>1</td>\n",
       "      <td>Abe Sapien</td>\n",
       "      <td>Male</td>\n",
       "      <td>blue</td>\n",
       "      <td>Icthyo Sapien</td>\n",
       "      <td>No Hair</td>\n",
       "      <td>191.0</td>\n",
       "      <td>Dark Horse Comics</td>\n",
       "      <td>blue</td>\n",
       "      <td>good</td>\n",
       "      <td>65.0</td>\n",
       "    </tr>\n",
       "    <tr>\n",
       "      <th>2</th>\n",
       "      <td>2</td>\n",
       "      <td>Abin Sur</td>\n",
       "      <td>Male</td>\n",
       "      <td>blue</td>\n",
       "      <td>Ungaran</td>\n",
       "      <td>No Hair</td>\n",
       "      <td>185.0</td>\n",
       "      <td>DC Comics</td>\n",
       "      <td>red</td>\n",
       "      <td>good</td>\n",
       "      <td>90.0</td>\n",
       "    </tr>\n",
       "    <tr>\n",
       "      <th>3</th>\n",
       "      <td>3</td>\n",
       "      <td>Abomination</td>\n",
       "      <td>Male</td>\n",
       "      <td>green</td>\n",
       "      <td>Human / Radiation</td>\n",
       "      <td>No Hair</td>\n",
       "      <td>203.0</td>\n",
       "      <td>Marvel Comics</td>\n",
       "      <td>-</td>\n",
       "      <td>bad</td>\n",
       "      <td>441.0</td>\n",
       "    </tr>\n",
       "    <tr>\n",
       "      <th>4</th>\n",
       "      <td>4</td>\n",
       "      <td>Abraxas</td>\n",
       "      <td>Male</td>\n",
       "      <td>blue</td>\n",
       "      <td>Cosmic Entity</td>\n",
       "      <td>Black</td>\n",
       "      <td>-99.0</td>\n",
       "      <td>Marvel Comics</td>\n",
       "      <td>-</td>\n",
       "      <td>bad</td>\n",
       "      <td>-99.0</td>\n",
       "    </tr>\n",
       "  </tbody>\n",
       "</table>\n",
       "</div>"
      ],
      "text/plain": [
       "   Unnamed: 0         name Gender Eye color               Race Hair color  \\\n",
       "0           0       A-Bomb   Male    yellow              Human    No Hair   \n",
       "1           1   Abe Sapien   Male      blue      Icthyo Sapien    No Hair   \n",
       "2           2     Abin Sur   Male      blue            Ungaran    No Hair   \n",
       "3           3  Abomination   Male     green  Human / Radiation    No Hair   \n",
       "4           4      Abraxas   Male      blue      Cosmic Entity      Black   \n",
       "\n",
       "   Height          Publisher Skin color Alignment  Weight  \n",
       "0   203.0      Marvel Comics          -      good   441.0  \n",
       "1   191.0  Dark Horse Comics       blue      good    65.0  \n",
       "2   185.0          DC Comics        red      good    90.0  \n",
       "3   203.0      Marvel Comics          -       bad   441.0  \n",
       "4   -99.0      Marvel Comics          -       bad   -99.0  "
      ]
     },
     "execution_count": 524,
     "metadata": {},
     "output_type": "execute_result"
    }
   ],
   "source": [
    "sups_info=pd.read_csv('heroes_information.csv')\n",
    "sups_info.head()"
   ]
  },
  {
   "cell_type": "code",
   "execution_count": 525,
   "metadata": {},
   "outputs": [
    {
     "data": {
      "text/html": [
       "<div>\n",
       "<style scoped>\n",
       "    .dataframe tbody tr th:only-of-type {\n",
       "        vertical-align: middle;\n",
       "    }\n",
       "\n",
       "    .dataframe tbody tr th {\n",
       "        vertical-align: top;\n",
       "    }\n",
       "\n",
       "    .dataframe thead th {\n",
       "        text-align: right;\n",
       "    }\n",
       "</style>\n",
       "<table border=\"1\" class=\"dataframe\">\n",
       "  <thead>\n",
       "    <tr style=\"text-align: right;\">\n",
       "      <th></th>\n",
       "      <th>name</th>\n",
       "      <th>Gender</th>\n",
       "      <th>Eye color</th>\n",
       "      <th>Race</th>\n",
       "      <th>Hair color</th>\n",
       "      <th>Height</th>\n",
       "      <th>Publisher</th>\n",
       "      <th>Skin color</th>\n",
       "      <th>Alignment</th>\n",
       "      <th>Weight</th>\n",
       "    </tr>\n",
       "  </thead>\n",
       "  <tbody>\n",
       "    <tr>\n",
       "      <th>0</th>\n",
       "      <td>A-Bomb</td>\n",
       "      <td>Male</td>\n",
       "      <td>yellow</td>\n",
       "      <td>Human</td>\n",
       "      <td>No Hair</td>\n",
       "      <td>203.0</td>\n",
       "      <td>Marvel Comics</td>\n",
       "      <td>-</td>\n",
       "      <td>good</td>\n",
       "      <td>441.0</td>\n",
       "    </tr>\n",
       "    <tr>\n",
       "      <th>1</th>\n",
       "      <td>Abe Sapien</td>\n",
       "      <td>Male</td>\n",
       "      <td>blue</td>\n",
       "      <td>Icthyo Sapien</td>\n",
       "      <td>No Hair</td>\n",
       "      <td>191.0</td>\n",
       "      <td>Dark Horse Comics</td>\n",
       "      <td>blue</td>\n",
       "      <td>good</td>\n",
       "      <td>65.0</td>\n",
       "    </tr>\n",
       "    <tr>\n",
       "      <th>2</th>\n",
       "      <td>Abin Sur</td>\n",
       "      <td>Male</td>\n",
       "      <td>blue</td>\n",
       "      <td>Ungaran</td>\n",
       "      <td>No Hair</td>\n",
       "      <td>185.0</td>\n",
       "      <td>DC Comics</td>\n",
       "      <td>red</td>\n",
       "      <td>good</td>\n",
       "      <td>90.0</td>\n",
       "    </tr>\n",
       "    <tr>\n",
       "      <th>3</th>\n",
       "      <td>Abomination</td>\n",
       "      <td>Male</td>\n",
       "      <td>green</td>\n",
       "      <td>Human / Radiation</td>\n",
       "      <td>No Hair</td>\n",
       "      <td>203.0</td>\n",
       "      <td>Marvel Comics</td>\n",
       "      <td>-</td>\n",
       "      <td>bad</td>\n",
       "      <td>441.0</td>\n",
       "    </tr>\n",
       "    <tr>\n",
       "      <th>4</th>\n",
       "      <td>Abraxas</td>\n",
       "      <td>Male</td>\n",
       "      <td>blue</td>\n",
       "      <td>Cosmic Entity</td>\n",
       "      <td>Black</td>\n",
       "      <td>-99.0</td>\n",
       "      <td>Marvel Comics</td>\n",
       "      <td>-</td>\n",
       "      <td>bad</td>\n",
       "      <td>-99.0</td>\n",
       "    </tr>\n",
       "  </tbody>\n",
       "</table>\n",
       "</div>"
      ],
      "text/plain": [
       "          name Gender Eye color               Race Hair color  Height  \\\n",
       "0       A-Bomb   Male    yellow              Human    No Hair   203.0   \n",
       "1   Abe Sapien   Male      blue      Icthyo Sapien    No Hair   191.0   \n",
       "2     Abin Sur   Male      blue            Ungaran    No Hair   185.0   \n",
       "3  Abomination   Male     green  Human / Radiation    No Hair   203.0   \n",
       "4      Abraxas   Male      blue      Cosmic Entity      Black   -99.0   \n",
       "\n",
       "           Publisher Skin color Alignment  Weight  \n",
       "0      Marvel Comics          -      good   441.0  \n",
       "1  Dark Horse Comics       blue      good    65.0  \n",
       "2          DC Comics        red      good    90.0  \n",
       "3      Marvel Comics          -       bad   441.0  \n",
       "4      Marvel Comics          -       bad   -99.0  "
      ]
     },
     "execution_count": 525,
     "metadata": {},
     "output_type": "execute_result"
    }
   ],
   "source": [
    "sups=sups_info.drop(['Unnamed: 0'], axis=1)\n",
    "sups.head()"
   ]
  },
  {
   "cell_type": "code",
   "execution_count": 526,
   "metadata": {},
   "outputs": [
    {
     "data": {
      "text/plain": [
       "name           0\n",
       "Gender         0\n",
       "Eye color      0\n",
       "Race           0\n",
       "Hair color     0\n",
       "Height         0\n",
       "Publisher     15\n",
       "Skin color     0\n",
       "Alignment      0\n",
       "Weight         2\n",
       "dtype: int64"
      ]
     },
     "execution_count": 526,
     "metadata": {},
     "output_type": "execute_result"
    }
   ],
   "source": [
    "#missing values\n",
    "sups.isna().sum()"
   ]
  },
  {
   "cell_type": "code",
   "execution_count": 527,
   "metadata": {},
   "outputs": [
    {
     "data": {
      "text/plain": [
       "array(['Marvel Comics', 'Dark Horse Comics', 'DC Comics', 'NBC - Heroes',\n",
       "       'Wildstorm', 'Image Comics', nan, 'Icon Comics', 'SyFy',\n",
       "       'Hanna-Barbera', 'George Lucas', 'Team Epic TV', 'South Park',\n",
       "       'HarperCollins', 'ABC Studios', 'Universal Studios', 'Star Trek',\n",
       "       'IDW Publishing', 'Shueisha', 'Sony Pictures', 'J. K. Rowling',\n",
       "       'Titan Books', 'Rebellion', 'Microsoft', 'J. R. R. Tolkien'],\n",
       "      dtype=object)"
      ]
     },
     "execution_count": 527,
     "metadata": {},
     "output_type": "execute_result"
    }
   ],
   "source": [
    "# unique values\n",
    "sups['Publisher'].unique()"
   ]
  },
  {
   "cell_type": "code",
   "execution_count": 528,
   "metadata": {},
   "outputs": [
    {
     "data": {
      "text/plain": [
       "array(['-', 'blue', 'red', 'black', 'grey', 'gold', 'green', 'white',\n",
       "       'pink', 'silver', 'red / black', 'yellow', 'purple',\n",
       "       'orange / white', 'gray', 'blue-white', 'orange'], dtype=object)"
      ]
     },
     "execution_count": 528,
     "metadata": {},
     "output_type": "execute_result"
    }
   ],
   "source": [
    "sups['Skin color'].unique()"
   ]
  },
  {
   "cell_type": "code",
   "execution_count": 529,
   "metadata": {},
   "outputs": [
    {
     "data": {
      "text/plain": [
       "array(['Male', 'Female', '-'], dtype=object)"
      ]
     },
     "execution_count": 529,
     "metadata": {},
     "output_type": "execute_result"
    }
   ],
   "source": [
    "sups['Gender'].unique()"
   ]
  },
  {
   "cell_type": "code",
   "execution_count": 530,
   "metadata": {},
   "outputs": [
    {
     "data": {
      "text/plain": [
       "array(['yellow', 'blue', 'green', 'brown', '-', 'red', 'violet', 'white',\n",
       "       'purple', 'black', 'grey', 'silver', 'yellow / red',\n",
       "       'yellow (without irises)', 'gold', 'blue / white', 'hazel',\n",
       "       'green / blue', 'white / red', 'indigo', 'amber', 'yellow / blue',\n",
       "       'bown'], dtype=object)"
      ]
     },
     "execution_count": 530,
     "metadata": {},
     "output_type": "execute_result"
    }
   ],
   "source": [
    "sups['Eye color'].unique()"
   ]
  },
  {
   "cell_type": "code",
   "execution_count": 531,
   "metadata": {},
   "outputs": [],
   "source": [
    "#Replacing - with unknown for all\n",
    "sups.loc[sups['Gender'] == '-','Gender'] = 'Unknown'\n",
    "sups.loc[sups['Eye color'] == '-','Eye color'] = 'Unknown'\n",
    "sups.loc[sups['Hair color'] == '-','Hair color'] = 'Unknown'\n",
    "sups.loc[sups['Hair color'] == 'Brownn','Hair color'] = 'Brown'\n",
    "sups.loc[sups['Hair color'] == 'black','Hair color'] = 'Black'\n",
    "sups.loc[sups['Skin color'] == '-','Skin color'] = 'Unknown'\n",
    "sups.loc[sups['Alignment'] == '-','Alignment'] = 'Unknown'\n",
    "sups.loc[sups['Alignment'] == 'neutral','Alignment'] = 'Neutral'\n",
    "sups.loc[sups['Alignment'] == 'good','Alignment'] = 'Good'\n",
    "sups.loc[sups['Alignment'] == 'bad','Alignment'] = 'Bad'\n",
    "sups.loc[sups['Race'] == '-','Race'] = 'Unknown'\n",
    "sups.loc[(sups['Publisher'] == '-') | (sups['Publisher'].isna() == True),'Publisher'] = 'Unknown'"
   ]
  },
  {
   "cell_type": "code",
   "execution_count": 532,
   "metadata": {},
   "outputs": [
    {
     "data": {
      "text/plain": [
       "name          0\n",
       "Gender        0\n",
       "Eye color     0\n",
       "Race          0\n",
       "Hair color    0\n",
       "Height        0\n",
       "Publisher     0\n",
       "Skin color    0\n",
       "Alignment     0\n",
       "Weight        2\n",
       "dtype: int64"
      ]
     },
     "execution_count": 532,
     "metadata": {},
     "output_type": "execute_result"
    }
   ],
   "source": [
    "#missing values\n",
    "sups.isnull().sum()"
   ]
  },
  {
   "attachments": {},
   "cell_type": "markdown",
   "metadata": {},
   "source": [
    "### Since there are only 2 missing values, they can be dropped"
   ]
  },
  {
   "cell_type": "code",
   "execution_count": 533,
   "metadata": {},
   "outputs": [],
   "source": [
    "sups=sups.dropna()"
   ]
  },
  {
   "cell_type": "code",
   "execution_count": 534,
   "metadata": {},
   "outputs": [
    {
     "data": {
      "text/plain": [
       "name          0\n",
       "Gender        0\n",
       "Eye color     0\n",
       "Race          0\n",
       "Hair color    0\n",
       "Height        0\n",
       "Publisher     0\n",
       "Skin color    0\n",
       "Alignment     0\n",
       "Weight        0\n",
       "dtype: int64"
      ]
     },
     "execution_count": 534,
     "metadata": {},
     "output_type": "execute_result"
    }
   ],
   "source": [
    "sups.isna().sum()"
   ]
  },
  {
   "cell_type": "code",
   "execution_count": 535,
   "metadata": {},
   "outputs": [],
   "source": [
    "sups.drop(['Height', 'Weight'], axis=1, inplace=True)"
   ]
  },
  {
   "cell_type": "code",
   "execution_count": 536,
   "metadata": {},
   "outputs": [],
   "source": [
    "sups = sups.rename(columns={'name': 'hero_names'})"
   ]
  },
  {
   "cell_type": "code",
   "execution_count": 537,
   "metadata": {},
   "outputs": [],
   "source": [
    "#Changing other comics that arent Marvel or DC to be other\n",
    "sups.loc[(sups['Publisher'] != 'Marvel Comics') & (sups['Publisher'] != 'DC Comics'),'Publisher'] = 'Other'"
   ]
  },
  {
   "cell_type": "code",
   "execution_count": 538,
   "metadata": {},
   "outputs": [
    {
     "data": {
      "text/plain": [
       "array(['Marvel Comics', 'Other', 'DC Comics'], dtype=object)"
      ]
     },
     "execution_count": 538,
     "metadata": {},
     "output_type": "execute_result"
    }
   ],
   "source": [
    "sups['Publisher'].unique()"
   ]
  },
  {
   "cell_type": "code",
   "execution_count": 539,
   "metadata": {},
   "outputs": [
    {
     "data": {
      "text/plain": [
       "(732, 8)"
      ]
     },
     "execution_count": 539,
     "metadata": {},
     "output_type": "execute_result"
    }
   ],
   "source": [
    "sups.shape"
   ]
  },
  {
   "cell_type": "code",
   "execution_count": 540,
   "metadata": {},
   "outputs": [
    {
     "data": {
      "text/html": [
       "<div>\n",
       "<style scoped>\n",
       "    .dataframe tbody tr th:only-of-type {\n",
       "        vertical-align: middle;\n",
       "    }\n",
       "\n",
       "    .dataframe tbody tr th {\n",
       "        vertical-align: top;\n",
       "    }\n",
       "\n",
       "    .dataframe thead th {\n",
       "        text-align: right;\n",
       "    }\n",
       "</style>\n",
       "<table border=\"1\" class=\"dataframe\">\n",
       "  <thead>\n",
       "    <tr style=\"text-align: right;\">\n",
       "      <th></th>\n",
       "      <th>hero_names</th>\n",
       "      <th>Gender</th>\n",
       "      <th>Eye color</th>\n",
       "      <th>Race</th>\n",
       "      <th>Hair color</th>\n",
       "      <th>Publisher</th>\n",
       "      <th>Skin color</th>\n",
       "      <th>Alignment</th>\n",
       "    </tr>\n",
       "  </thead>\n",
       "  <tbody>\n",
       "    <tr>\n",
       "      <th>622</th>\n",
       "      <td>Spider-Man</td>\n",
       "      <td>Male</td>\n",
       "      <td>hazel</td>\n",
       "      <td>Human</td>\n",
       "      <td>Brown</td>\n",
       "      <td>Marvel Comics</td>\n",
       "      <td>Unknown</td>\n",
       "      <td>Good</td>\n",
       "    </tr>\n",
       "    <tr>\n",
       "      <th>623</th>\n",
       "      <td>Spider-Man</td>\n",
       "      <td>Unknown</td>\n",
       "      <td>red</td>\n",
       "      <td>Human</td>\n",
       "      <td>Brown</td>\n",
       "      <td>Marvel Comics</td>\n",
       "      <td>Unknown</td>\n",
       "      <td>Good</td>\n",
       "    </tr>\n",
       "    <tr>\n",
       "      <th>624</th>\n",
       "      <td>Spider-Man</td>\n",
       "      <td>Male</td>\n",
       "      <td>brown</td>\n",
       "      <td>Human</td>\n",
       "      <td>Black</td>\n",
       "      <td>Marvel Comics</td>\n",
       "      <td>Unknown</td>\n",
       "      <td>Good</td>\n",
       "    </tr>\n",
       "  </tbody>\n",
       "</table>\n",
       "</div>"
      ],
      "text/plain": [
       "     hero_names   Gender Eye color   Race Hair color      Publisher  \\\n",
       "622  Spider-Man     Male     hazel  Human      Brown  Marvel Comics   \n",
       "623  Spider-Man  Unknown       red  Human      Brown  Marvel Comics   \n",
       "624  Spider-Man     Male     brown  Human      Black  Marvel Comics   \n",
       "\n",
       "    Skin color Alignment  \n",
       "622    Unknown      Good  \n",
       "623    Unknown      Good  \n",
       "624    Unknown      Good  "
      ]
     },
     "execution_count": 540,
     "metadata": {},
     "output_type": "execute_result"
    }
   ],
   "source": [
    "sups[sups['hero_names']=='Spider-Man']"
   ]
  },
  {
   "attachments": {},
   "cell_type": "markdown",
   "metadata": {},
   "source": [
    "##### Working with superhero powers"
   ]
  },
  {
   "cell_type": "code",
   "execution_count": 541,
   "metadata": {},
   "outputs": [],
   "source": [
    "pow= pd.read_csv('data.csv')"
   ]
  },
  {
   "cell_type": "code",
   "execution_count": 542,
   "metadata": {},
   "outputs": [
    {
     "data": {
      "text/html": [
       "<div>\n",
       "<style scoped>\n",
       "    .dataframe tbody tr th:only-of-type {\n",
       "        vertical-align: middle;\n",
       "    }\n",
       "\n",
       "    .dataframe tbody tr th {\n",
       "        vertical-align: top;\n",
       "    }\n",
       "\n",
       "    .dataframe thead th {\n",
       "        text-align: right;\n",
       "    }\n",
       "</style>\n",
       "<table border=\"1\" class=\"dataframe\">\n",
       "  <thead>\n",
       "    <tr style=\"text-align: right;\">\n",
       "      <th></th>\n",
       "      <th>id</th>\n",
       "      <th>name</th>\n",
       "      <th>powerstats__intelligence</th>\n",
       "      <th>powerstats__strength</th>\n",
       "      <th>powerstats__speed</th>\n",
       "      <th>powerstats__durability</th>\n",
       "      <th>powerstats__power</th>\n",
       "      <th>powerstats__combat</th>\n",
       "      <th>biography__full-name</th>\n",
       "      <th>biography__alter-egos</th>\n",
       "      <th>...</th>\n",
       "      <th>biography__aliases__011</th>\n",
       "      <th>biography__aliases__012</th>\n",
       "      <th>biography__aliases__013</th>\n",
       "      <th>biography__aliases__014</th>\n",
       "      <th>biography__aliases__015</th>\n",
       "      <th>biography__aliases__016</th>\n",
       "      <th>biography__aliases__017</th>\n",
       "      <th>biography__aliases__018</th>\n",
       "      <th>biography__aliases__019</th>\n",
       "      <th>biography__aliases__020</th>\n",
       "    </tr>\n",
       "  </thead>\n",
       "  <tbody>\n",
       "    <tr>\n",
       "      <th>0</th>\n",
       "      <td>1</td>\n",
       "      <td>A-Bomb</td>\n",
       "      <td>38.0</td>\n",
       "      <td>100.0</td>\n",
       "      <td>17.0</td>\n",
       "      <td>80.0</td>\n",
       "      <td>24.0</td>\n",
       "      <td>64.0</td>\n",
       "      <td>Richard Milhouse Jones</td>\n",
       "      <td>No alter egos found.</td>\n",
       "      <td>...</td>\n",
       "      <td>NaN</td>\n",
       "      <td>NaN</td>\n",
       "      <td>NaN</td>\n",
       "      <td>NaN</td>\n",
       "      <td>NaN</td>\n",
       "      <td>NaN</td>\n",
       "      <td>NaN</td>\n",
       "      <td>NaN</td>\n",
       "      <td>NaN</td>\n",
       "      <td>NaN</td>\n",
       "    </tr>\n",
       "    <tr>\n",
       "      <th>1</th>\n",
       "      <td>2</td>\n",
       "      <td>Abe Sapien</td>\n",
       "      <td>88.0</td>\n",
       "      <td>28.0</td>\n",
       "      <td>35.0</td>\n",
       "      <td>65.0</td>\n",
       "      <td>100.0</td>\n",
       "      <td>85.0</td>\n",
       "      <td>Abraham Sapien</td>\n",
       "      <td>No alter egos found.</td>\n",
       "      <td>...</td>\n",
       "      <td>NaN</td>\n",
       "      <td>NaN</td>\n",
       "      <td>NaN</td>\n",
       "      <td>NaN</td>\n",
       "      <td>NaN</td>\n",
       "      <td>NaN</td>\n",
       "      <td>NaN</td>\n",
       "      <td>NaN</td>\n",
       "      <td>NaN</td>\n",
       "      <td>NaN</td>\n",
       "    </tr>\n",
       "    <tr>\n",
       "      <th>2</th>\n",
       "      <td>3</td>\n",
       "      <td>Abin Sur</td>\n",
       "      <td>50.0</td>\n",
       "      <td>90.0</td>\n",
       "      <td>53.0</td>\n",
       "      <td>64.0</td>\n",
       "      <td>99.0</td>\n",
       "      <td>65.0</td>\n",
       "      <td>NaN</td>\n",
       "      <td>No alter egos found.</td>\n",
       "      <td>...</td>\n",
       "      <td>NaN</td>\n",
       "      <td>NaN</td>\n",
       "      <td>NaN</td>\n",
       "      <td>NaN</td>\n",
       "      <td>NaN</td>\n",
       "      <td>NaN</td>\n",
       "      <td>NaN</td>\n",
       "      <td>NaN</td>\n",
       "      <td>NaN</td>\n",
       "      <td>NaN</td>\n",
       "    </tr>\n",
       "    <tr>\n",
       "      <th>3</th>\n",
       "      <td>4</td>\n",
       "      <td>Abomination</td>\n",
       "      <td>63.0</td>\n",
       "      <td>80.0</td>\n",
       "      <td>53.0</td>\n",
       "      <td>90.0</td>\n",
       "      <td>62.0</td>\n",
       "      <td>95.0</td>\n",
       "      <td>Emil Blonsky</td>\n",
       "      <td>No alter egos found.</td>\n",
       "      <td>...</td>\n",
       "      <td>NaN</td>\n",
       "      <td>NaN</td>\n",
       "      <td>NaN</td>\n",
       "      <td>NaN</td>\n",
       "      <td>NaN</td>\n",
       "      <td>NaN</td>\n",
       "      <td>NaN</td>\n",
       "      <td>NaN</td>\n",
       "      <td>NaN</td>\n",
       "      <td>NaN</td>\n",
       "    </tr>\n",
       "    <tr>\n",
       "      <th>4</th>\n",
       "      <td>5</td>\n",
       "      <td>Abraxas</td>\n",
       "      <td>88.0</td>\n",
       "      <td>63.0</td>\n",
       "      <td>83.0</td>\n",
       "      <td>100.0</td>\n",
       "      <td>100.0</td>\n",
       "      <td>55.0</td>\n",
       "      <td>Abraxas</td>\n",
       "      <td>No alter egos found.</td>\n",
       "      <td>...</td>\n",
       "      <td>NaN</td>\n",
       "      <td>NaN</td>\n",
       "      <td>NaN</td>\n",
       "      <td>NaN</td>\n",
       "      <td>NaN</td>\n",
       "      <td>NaN</td>\n",
       "      <td>NaN</td>\n",
       "      <td>NaN</td>\n",
       "      <td>NaN</td>\n",
       "      <td>NaN</td>\n",
       "    </tr>\n",
       "  </tbody>\n",
       "</table>\n",
       "<p>5 rows × 46 columns</p>\n",
       "</div>"
      ],
      "text/plain": [
       "   id         name  powerstats__intelligence  powerstats__strength  \\\n",
       "0   1       A-Bomb                      38.0                 100.0   \n",
       "1   2   Abe Sapien                      88.0                  28.0   \n",
       "2   3     Abin Sur                      50.0                  90.0   \n",
       "3   4  Abomination                      63.0                  80.0   \n",
       "4   5      Abraxas                      88.0                  63.0   \n",
       "\n",
       "   powerstats__speed  powerstats__durability  powerstats__power  \\\n",
       "0               17.0                    80.0               24.0   \n",
       "1               35.0                    65.0              100.0   \n",
       "2               53.0                    64.0               99.0   \n",
       "3               53.0                    90.0               62.0   \n",
       "4               83.0                   100.0              100.0   \n",
       "\n",
       "   powerstats__combat    biography__full-name biography__alter-egos  ...  \\\n",
       "0                64.0  Richard Milhouse Jones  No alter egos found.  ...   \n",
       "1                85.0          Abraham Sapien  No alter egos found.  ...   \n",
       "2                65.0                     NaN  No alter egos found.  ...   \n",
       "3                95.0            Emil Blonsky  No alter egos found.  ...   \n",
       "4                55.0                 Abraxas  No alter egos found.  ...   \n",
       "\n",
       "  biography__aliases__011 biography__aliases__012 biography__aliases__013  \\\n",
       "0                     NaN                     NaN                     NaN   \n",
       "1                     NaN                     NaN                     NaN   \n",
       "2                     NaN                     NaN                     NaN   \n",
       "3                     NaN                     NaN                     NaN   \n",
       "4                     NaN                     NaN                     NaN   \n",
       "\n",
       "  biography__aliases__014 biography__aliases__015 biography__aliases__016  \\\n",
       "0                     NaN                     NaN                     NaN   \n",
       "1                     NaN                     NaN                     NaN   \n",
       "2                     NaN                     NaN                     NaN   \n",
       "3                     NaN                     NaN                     NaN   \n",
       "4                     NaN                     NaN                     NaN   \n",
       "\n",
       "  biography__aliases__017 biography__aliases__018 biography__aliases__019  \\\n",
       "0                     NaN                     NaN                     NaN   \n",
       "1                     NaN                     NaN                     NaN   \n",
       "2                     NaN                     NaN                     NaN   \n",
       "3                     NaN                     NaN                     NaN   \n",
       "4                     NaN                     NaN                     NaN   \n",
       "\n",
       "  biography__aliases__020  \n",
       "0                     NaN  \n",
       "1                     NaN  \n",
       "2                     NaN  \n",
       "3                     NaN  \n",
       "4                     NaN  \n",
       "\n",
       "[5 rows x 46 columns]"
      ]
     },
     "execution_count": 542,
     "metadata": {},
     "output_type": "execute_result"
    }
   ],
   "source": [
    "pow.head()"
   ]
  },
  {
   "cell_type": "code",
   "execution_count": 543,
   "metadata": {},
   "outputs": [
    {
     "data": {
      "text/html": [
       "<div>\n",
       "<style scoped>\n",
       "    .dataframe tbody tr th:only-of-type {\n",
       "        vertical-align: middle;\n",
       "    }\n",
       "\n",
       "    .dataframe tbody tr th {\n",
       "        vertical-align: top;\n",
       "    }\n",
       "\n",
       "    .dataframe thead th {\n",
       "        text-align: right;\n",
       "    }\n",
       "</style>\n",
       "<table border=\"1\" class=\"dataframe\">\n",
       "  <thead>\n",
       "    <tr style=\"text-align: right;\">\n",
       "      <th></th>\n",
       "      <th>name</th>\n",
       "      <th>powerstats__intelligence</th>\n",
       "      <th>powerstats__strength</th>\n",
       "      <th>powerstats__speed</th>\n",
       "      <th>powerstats__durability</th>\n",
       "      <th>powerstats__power</th>\n",
       "      <th>powerstats__combat</th>\n",
       "      <th>biography__full-name</th>\n",
       "      <th>biography__alter-egos</th>\n",
       "      <th>biography__aliases__001</th>\n",
       "      <th>...</th>\n",
       "      <th>biography__aliases__011</th>\n",
       "      <th>biography__aliases__012</th>\n",
       "      <th>biography__aliases__013</th>\n",
       "      <th>biography__aliases__014</th>\n",
       "      <th>biography__aliases__015</th>\n",
       "      <th>biography__aliases__016</th>\n",
       "      <th>biography__aliases__017</th>\n",
       "      <th>biography__aliases__018</th>\n",
       "      <th>biography__aliases__019</th>\n",
       "      <th>biography__aliases__020</th>\n",
       "    </tr>\n",
       "  </thead>\n",
       "  <tbody>\n",
       "    <tr>\n",
       "      <th>0</th>\n",
       "      <td>A-Bomb</td>\n",
       "      <td>38.0</td>\n",
       "      <td>100.0</td>\n",
       "      <td>17.0</td>\n",
       "      <td>80.0</td>\n",
       "      <td>24.0</td>\n",
       "      <td>64.0</td>\n",
       "      <td>Richard Milhouse Jones</td>\n",
       "      <td>No alter egos found.</td>\n",
       "      <td>Rick Jones</td>\n",
       "      <td>...</td>\n",
       "      <td>NaN</td>\n",
       "      <td>NaN</td>\n",
       "      <td>NaN</td>\n",
       "      <td>NaN</td>\n",
       "      <td>NaN</td>\n",
       "      <td>NaN</td>\n",
       "      <td>NaN</td>\n",
       "      <td>NaN</td>\n",
       "      <td>NaN</td>\n",
       "      <td>NaN</td>\n",
       "    </tr>\n",
       "    <tr>\n",
       "      <th>1</th>\n",
       "      <td>Abe Sapien</td>\n",
       "      <td>88.0</td>\n",
       "      <td>28.0</td>\n",
       "      <td>35.0</td>\n",
       "      <td>65.0</td>\n",
       "      <td>100.0</td>\n",
       "      <td>85.0</td>\n",
       "      <td>Abraham Sapien</td>\n",
       "      <td>No alter egos found.</td>\n",
       "      <td>Langdon Everett Caul</td>\n",
       "      <td>...</td>\n",
       "      <td>NaN</td>\n",
       "      <td>NaN</td>\n",
       "      <td>NaN</td>\n",
       "      <td>NaN</td>\n",
       "      <td>NaN</td>\n",
       "      <td>NaN</td>\n",
       "      <td>NaN</td>\n",
       "      <td>NaN</td>\n",
       "      <td>NaN</td>\n",
       "      <td>NaN</td>\n",
       "    </tr>\n",
       "    <tr>\n",
       "      <th>2</th>\n",
       "      <td>Abin Sur</td>\n",
       "      <td>50.0</td>\n",
       "      <td>90.0</td>\n",
       "      <td>53.0</td>\n",
       "      <td>64.0</td>\n",
       "      <td>99.0</td>\n",
       "      <td>65.0</td>\n",
       "      <td>NaN</td>\n",
       "      <td>No alter egos found.</td>\n",
       "      <td>Lagzia</td>\n",
       "      <td>...</td>\n",
       "      <td>NaN</td>\n",
       "      <td>NaN</td>\n",
       "      <td>NaN</td>\n",
       "      <td>NaN</td>\n",
       "      <td>NaN</td>\n",
       "      <td>NaN</td>\n",
       "      <td>NaN</td>\n",
       "      <td>NaN</td>\n",
       "      <td>NaN</td>\n",
       "      <td>NaN</td>\n",
       "    </tr>\n",
       "    <tr>\n",
       "      <th>3</th>\n",
       "      <td>Abomination</td>\n",
       "      <td>63.0</td>\n",
       "      <td>80.0</td>\n",
       "      <td>53.0</td>\n",
       "      <td>90.0</td>\n",
       "      <td>62.0</td>\n",
       "      <td>95.0</td>\n",
       "      <td>Emil Blonsky</td>\n",
       "      <td>No alter egos found.</td>\n",
       "      <td>Agent R-7</td>\n",
       "      <td>...</td>\n",
       "      <td>NaN</td>\n",
       "      <td>NaN</td>\n",
       "      <td>NaN</td>\n",
       "      <td>NaN</td>\n",
       "      <td>NaN</td>\n",
       "      <td>NaN</td>\n",
       "      <td>NaN</td>\n",
       "      <td>NaN</td>\n",
       "      <td>NaN</td>\n",
       "      <td>NaN</td>\n",
       "    </tr>\n",
       "    <tr>\n",
       "      <th>4</th>\n",
       "      <td>Abraxas</td>\n",
       "      <td>88.0</td>\n",
       "      <td>63.0</td>\n",
       "      <td>83.0</td>\n",
       "      <td>100.0</td>\n",
       "      <td>100.0</td>\n",
       "      <td>55.0</td>\n",
       "      <td>Abraxas</td>\n",
       "      <td>No alter egos found.</td>\n",
       "      <td>-</td>\n",
       "      <td>...</td>\n",
       "      <td>NaN</td>\n",
       "      <td>NaN</td>\n",
       "      <td>NaN</td>\n",
       "      <td>NaN</td>\n",
       "      <td>NaN</td>\n",
       "      <td>NaN</td>\n",
       "      <td>NaN</td>\n",
       "      <td>NaN</td>\n",
       "      <td>NaN</td>\n",
       "      <td>NaN</td>\n",
       "    </tr>\n",
       "  </tbody>\n",
       "</table>\n",
       "<p>5 rows × 45 columns</p>\n",
       "</div>"
      ],
      "text/plain": [
       "          name  powerstats__intelligence  powerstats__strength  \\\n",
       "0       A-Bomb                      38.0                 100.0   \n",
       "1   Abe Sapien                      88.0                  28.0   \n",
       "2     Abin Sur                      50.0                  90.0   \n",
       "3  Abomination                      63.0                  80.0   \n",
       "4      Abraxas                      88.0                  63.0   \n",
       "\n",
       "   powerstats__speed  powerstats__durability  powerstats__power  \\\n",
       "0               17.0                    80.0               24.0   \n",
       "1               35.0                    65.0              100.0   \n",
       "2               53.0                    64.0               99.0   \n",
       "3               53.0                    90.0               62.0   \n",
       "4               83.0                   100.0              100.0   \n",
       "\n",
       "   powerstats__combat    biography__full-name biography__alter-egos  \\\n",
       "0                64.0  Richard Milhouse Jones  No alter egos found.   \n",
       "1                85.0          Abraham Sapien  No alter egos found.   \n",
       "2                65.0                     NaN  No alter egos found.   \n",
       "3                95.0            Emil Blonsky  No alter egos found.   \n",
       "4                55.0                 Abraxas  No alter egos found.   \n",
       "\n",
       "  biography__aliases__001  ... biography__aliases__011  \\\n",
       "0              Rick Jones  ...                     NaN   \n",
       "1    Langdon Everett Caul  ...                     NaN   \n",
       "2                  Lagzia  ...                     NaN   \n",
       "3               Agent R-7  ...                     NaN   \n",
       "4                       -  ...                     NaN   \n",
       "\n",
       "  biography__aliases__012 biography__aliases__013 biography__aliases__014  \\\n",
       "0                     NaN                     NaN                     NaN   \n",
       "1                     NaN                     NaN                     NaN   \n",
       "2                     NaN                     NaN                     NaN   \n",
       "3                     NaN                     NaN                     NaN   \n",
       "4                     NaN                     NaN                     NaN   \n",
       "\n",
       "  biography__aliases__015 biography__aliases__016 biography__aliases__017  \\\n",
       "0                     NaN                     NaN                     NaN   \n",
       "1                     NaN                     NaN                     NaN   \n",
       "2                     NaN                     NaN                     NaN   \n",
       "3                     NaN                     NaN                     NaN   \n",
       "4                     NaN                     NaN                     NaN   \n",
       "\n",
       "  biography__aliases__018 biography__aliases__019 biography__aliases__020  \n",
       "0                     NaN                     NaN                     NaN  \n",
       "1                     NaN                     NaN                     NaN  \n",
       "2                     NaN                     NaN                     NaN  \n",
       "3                     NaN                     NaN                     NaN  \n",
       "4                     NaN                     NaN                     NaN  \n",
       "\n",
       "[5 rows x 45 columns]"
      ]
     },
     "execution_count": 543,
     "metadata": {},
     "output_type": "execute_result"
    }
   ],
   "source": [
    "powers=pow.drop(['id'], axis=1)\n",
    "powers.head()"
   ]
  },
  {
   "cell_type": "code",
   "execution_count": 544,
   "metadata": {},
   "outputs": [
    {
     "data": {
      "text/plain": [
       "(731, 45)"
      ]
     },
     "execution_count": 544,
     "metadata": {},
     "output_type": "execute_result"
    }
   ],
   "source": [
    "powers.shape"
   ]
  },
  {
   "cell_type": "code",
   "execution_count": 545,
   "metadata": {},
   "outputs": [],
   "source": [
    "powers.drop([\"biography__aliases__002\",\"biography__aliases__003\",\"biography__aliases__004\",\"biography__aliases__005\",\n",
    "        \"biography__aliases__005\",\"biography__aliases__006\",\"biography__aliases__007\",\"biography__aliases__008\",\n",
    "        \"biography__aliases__009\",\"biography__aliases__010\",\"biography__aliases__011\",\"biography__aliases__012\",\n",
    "        \"biography__aliases__013\",\"biography__aliases__014\",\"biography__aliases__015\",\"biography__aliases__016\", 'appearance__height__001', 'appearance__weight__001',\n",
    "        \"biography__aliases__017\",\"biography__aliases__018\",\"biography__aliases__019\",\"biography__aliases__020\"], axis=1, inplace = True)"
   ]
  },
  {
   "cell_type": "code",
   "execution_count": 546,
   "metadata": {},
   "outputs": [
    {
     "data": {
      "text/plain": [
       "Index(['name', 'powerstats__intelligence', 'powerstats__strength',\n",
       "       'powerstats__speed', 'powerstats__durability', 'powerstats__power',\n",
       "       'powerstats__combat', 'biography__full-name', 'biography__alter-egos',\n",
       "       'biography__aliases__001', 'biography__place-of-birth',\n",
       "       'biography__first-appearance', 'biography__publisher',\n",
       "       'biography__alignment', 'appearance__gender', 'appearance__race',\n",
       "       'appearance__height__002', 'appearance__weight__002',\n",
       "       'appearance__eye-color', 'appearance__hair-color', 'work__occupation',\n",
       "       'work__base', 'connections__group-affiliation',\n",
       "       'connections__relatives'],\n",
       "      dtype='object')"
      ]
     },
     "execution_count": 546,
     "metadata": {},
     "output_type": "execute_result"
    }
   ],
   "source": [
    "powers.columns"
   ]
  },
  {
   "cell_type": "code",
   "execution_count": 547,
   "metadata": {},
   "outputs": [],
   "source": [
    "powers.rename(columns={\"name\": \"hero_names\",\"powerstats__intelligence\":\"Intelligence\",\"powerstats__strength\":\"Strength\",\n",
    "                   \"powerstats__speed\":\"Speed\",\"powerstats__durability\":\"Durability\",   \n",
    "                   \"powerstats__power\":\"Power\",\"powerstats__combat\":\"Combat\",\n",
    "                   \"biography__alter-egos\":\"Alter-ego\", \"biography__full-name\":\"Full_name\",\n",
    "                   \"biography__place-of-birth\" : \"Origin\",\"biography__first-appearance\" : \"First-appearance\",\n",
    "                   \"biography__alter-egos\":\"Alter-ego\",\"biography__aliases__001\":\"Alias\",\n",
    "                   \"biography__publisher\":\"Publisher\",\"biography__alignment\":\"Alignment\",\"appearance__gender\":\"Gender\",\n",
    "                   \"appearance__height__002\":\"Height\",\"appearance__weight__002\":\"Weight\",\"appearance__eye-color\":\"Eye-color\",\n",
    "                   \"appearance__hair-color\":\"Hair-color\",\"connections__group-affiliation\":\"Group\"\n",
    "                  },inplace= True)"
   ]
  },
  {
   "cell_type": "code",
   "execution_count": 548,
   "metadata": {},
   "outputs": [
    {
     "data": {
      "text/html": [
       "<div>\n",
       "<style scoped>\n",
       "    .dataframe tbody tr th:only-of-type {\n",
       "        vertical-align: middle;\n",
       "    }\n",
       "\n",
       "    .dataframe tbody tr th {\n",
       "        vertical-align: top;\n",
       "    }\n",
       "\n",
       "    .dataframe thead th {\n",
       "        text-align: right;\n",
       "    }\n",
       "</style>\n",
       "<table border=\"1\" class=\"dataframe\">\n",
       "  <thead>\n",
       "    <tr style=\"text-align: right;\">\n",
       "      <th></th>\n",
       "      <th>hero_names</th>\n",
       "      <th>Intelligence</th>\n",
       "      <th>Strength</th>\n",
       "      <th>Speed</th>\n",
       "      <th>Durability</th>\n",
       "      <th>Power</th>\n",
       "      <th>Combat</th>\n",
       "      <th>Full_name</th>\n",
       "      <th>Alter-ego</th>\n",
       "      <th>Alias</th>\n",
       "      <th>...</th>\n",
       "      <th>Gender</th>\n",
       "      <th>appearance__race</th>\n",
       "      <th>Height</th>\n",
       "      <th>Weight</th>\n",
       "      <th>Eye-color</th>\n",
       "      <th>Hair-color</th>\n",
       "      <th>work__occupation</th>\n",
       "      <th>work__base</th>\n",
       "      <th>Group</th>\n",
       "      <th>connections__relatives</th>\n",
       "    </tr>\n",
       "  </thead>\n",
       "  <tbody>\n",
       "    <tr>\n",
       "      <th>0</th>\n",
       "      <td>A-Bomb</td>\n",
       "      <td>38.0</td>\n",
       "      <td>100.0</td>\n",
       "      <td>17.0</td>\n",
       "      <td>80.0</td>\n",
       "      <td>24.0</td>\n",
       "      <td>64.0</td>\n",
       "      <td>Richard Milhouse Jones</td>\n",
       "      <td>No alter egos found.</td>\n",
       "      <td>Rick Jones</td>\n",
       "      <td>...</td>\n",
       "      <td>Male</td>\n",
       "      <td>Human</td>\n",
       "      <td>203 cm</td>\n",
       "      <td>441 kg</td>\n",
       "      <td>Yellow</td>\n",
       "      <td>No Hair</td>\n",
       "      <td>Musician, adventurer, author; formerly talk sh...</td>\n",
       "      <td>-</td>\n",
       "      <td>Hulk Family; Excelsior (sponsor), Avengers (ho...</td>\n",
       "      <td>Marlo Chandler-Jones (wife); Polly (aunt); Mrs...</td>\n",
       "    </tr>\n",
       "    <tr>\n",
       "      <th>1</th>\n",
       "      <td>Abe Sapien</td>\n",
       "      <td>88.0</td>\n",
       "      <td>28.0</td>\n",
       "      <td>35.0</td>\n",
       "      <td>65.0</td>\n",
       "      <td>100.0</td>\n",
       "      <td>85.0</td>\n",
       "      <td>Abraham Sapien</td>\n",
       "      <td>No alter egos found.</td>\n",
       "      <td>Langdon Everett Caul</td>\n",
       "      <td>...</td>\n",
       "      <td>Male</td>\n",
       "      <td>Icthyo Sapien</td>\n",
       "      <td>191 cm</td>\n",
       "      <td>65 kg</td>\n",
       "      <td>Blue</td>\n",
       "      <td>No Hair</td>\n",
       "      <td>Paranormal Investigator</td>\n",
       "      <td>-</td>\n",
       "      <td>Bureau for Paranormal Research and Defense</td>\n",
       "      <td>Edith Howard (wife, deceased)</td>\n",
       "    </tr>\n",
       "    <tr>\n",
       "      <th>2</th>\n",
       "      <td>Abin Sur</td>\n",
       "      <td>50.0</td>\n",
       "      <td>90.0</td>\n",
       "      <td>53.0</td>\n",
       "      <td>64.0</td>\n",
       "      <td>99.0</td>\n",
       "      <td>65.0</td>\n",
       "      <td>NaN</td>\n",
       "      <td>No alter egos found.</td>\n",
       "      <td>Lagzia</td>\n",
       "      <td>...</td>\n",
       "      <td>Male</td>\n",
       "      <td>Ungaran</td>\n",
       "      <td>185 cm</td>\n",
       "      <td>90 kg</td>\n",
       "      <td>Blue</td>\n",
       "      <td>No Hair</td>\n",
       "      <td>Green Lantern, former history professor</td>\n",
       "      <td>Oa</td>\n",
       "      <td>Green Lantern Corps, Black Lantern Corps</td>\n",
       "      <td>Amon Sur (son), Arin Sur (sister), Thaal Sines...</td>\n",
       "    </tr>\n",
       "    <tr>\n",
       "      <th>3</th>\n",
       "      <td>Abomination</td>\n",
       "      <td>63.0</td>\n",
       "      <td>80.0</td>\n",
       "      <td>53.0</td>\n",
       "      <td>90.0</td>\n",
       "      <td>62.0</td>\n",
       "      <td>95.0</td>\n",
       "      <td>Emil Blonsky</td>\n",
       "      <td>No alter egos found.</td>\n",
       "      <td>Agent R-7</td>\n",
       "      <td>...</td>\n",
       "      <td>Male</td>\n",
       "      <td>Human / Radiation</td>\n",
       "      <td>203 cm</td>\n",
       "      <td>441 kg</td>\n",
       "      <td>Green</td>\n",
       "      <td>No Hair</td>\n",
       "      <td>Ex-Spy</td>\n",
       "      <td>Mobile</td>\n",
       "      <td>former member of the crew of the Andromeda Sta...</td>\n",
       "      <td>Nadia Dornova Blonsky (wife, separated)</td>\n",
       "    </tr>\n",
       "    <tr>\n",
       "      <th>4</th>\n",
       "      <td>Abraxas</td>\n",
       "      <td>88.0</td>\n",
       "      <td>63.0</td>\n",
       "      <td>83.0</td>\n",
       "      <td>100.0</td>\n",
       "      <td>100.0</td>\n",
       "      <td>55.0</td>\n",
       "      <td>Abraxas</td>\n",
       "      <td>No alter egos found.</td>\n",
       "      <td>-</td>\n",
       "      <td>...</td>\n",
       "      <td>Male</td>\n",
       "      <td>Cosmic Entity</td>\n",
       "      <td>0 cm</td>\n",
       "      <td>0 kg</td>\n",
       "      <td>Blue</td>\n",
       "      <td>Black</td>\n",
       "      <td>Dimensional destroyer</td>\n",
       "      <td>-</td>\n",
       "      <td>Cosmic Beings</td>\n",
       "      <td>Eternity (\"Father\")</td>\n",
       "    </tr>\n",
       "  </tbody>\n",
       "</table>\n",
       "<p>5 rows × 24 columns</p>\n",
       "</div>"
      ],
      "text/plain": [
       "    hero_names  Intelligence  Strength  Speed  Durability  Power  Combat  \\\n",
       "0       A-Bomb          38.0     100.0   17.0        80.0   24.0    64.0   \n",
       "1   Abe Sapien          88.0      28.0   35.0        65.0  100.0    85.0   \n",
       "2     Abin Sur          50.0      90.0   53.0        64.0   99.0    65.0   \n",
       "3  Abomination          63.0      80.0   53.0        90.0   62.0    95.0   \n",
       "4      Abraxas          88.0      63.0   83.0       100.0  100.0    55.0   \n",
       "\n",
       "                Full_name             Alter-ego                 Alias  ...  \\\n",
       "0  Richard Milhouse Jones  No alter egos found.            Rick Jones  ...   \n",
       "1          Abraham Sapien  No alter egos found.  Langdon Everett Caul  ...   \n",
       "2                     NaN  No alter egos found.                Lagzia  ...   \n",
       "3            Emil Blonsky  No alter egos found.             Agent R-7  ...   \n",
       "4                 Abraxas  No alter egos found.                     -  ...   \n",
       "\n",
       "  Gender   appearance__race  Height  Weight Eye-color Hair-color  \\\n",
       "0   Male              Human  203 cm  441 kg    Yellow    No Hair   \n",
       "1   Male      Icthyo Sapien  191 cm   65 kg      Blue    No Hair   \n",
       "2   Male            Ungaran  185 cm   90 kg      Blue    No Hair   \n",
       "3   Male  Human / Radiation  203 cm  441 kg     Green    No Hair   \n",
       "4   Male      Cosmic Entity    0 cm    0 kg      Blue      Black   \n",
       "\n",
       "                                    work__occupation work__base  \\\n",
       "0  Musician, adventurer, author; formerly talk sh...          -   \n",
       "1                            Paranormal Investigator          -   \n",
       "2            Green Lantern, former history professor         Oa   \n",
       "3                                             Ex-Spy     Mobile   \n",
       "4                              Dimensional destroyer          -   \n",
       "\n",
       "                                               Group  \\\n",
       "0  Hulk Family; Excelsior (sponsor), Avengers (ho...   \n",
       "1         Bureau for Paranormal Research and Defense   \n",
       "2           Green Lantern Corps, Black Lantern Corps   \n",
       "3  former member of the crew of the Andromeda Sta...   \n",
       "4                                      Cosmic Beings   \n",
       "\n",
       "                              connections__relatives  \n",
       "0  Marlo Chandler-Jones (wife); Polly (aunt); Mrs...  \n",
       "1                      Edith Howard (wife, deceased)  \n",
       "2  Amon Sur (son), Arin Sur (sister), Thaal Sines...  \n",
       "3            Nadia Dornova Blonsky (wife, separated)  \n",
       "4                                Eternity (\"Father\")  \n",
       "\n",
       "[5 rows x 24 columns]"
      ]
     },
     "execution_count": 548,
     "metadata": {},
     "output_type": "execute_result"
    }
   ],
   "source": [
    "powers.head()"
   ]
  },
  {
   "cell_type": "code",
   "execution_count": 549,
   "metadata": {},
   "outputs": [
    {
     "data": {
      "text/plain": [
       "hero_names                  0\n",
       "Intelligence              165\n",
       "Strength                  102\n",
       "Speed                     165\n",
       "Durability                165\n",
       "Power                     165\n",
       "Combat                    165\n",
       "Full_name                 101\n",
       "Alter-ego                   0\n",
       "Alias                       0\n",
       "Origin                      0\n",
       "First-appearance            0\n",
       "Publisher                  15\n",
       "Alignment                   0\n",
       "Gender                      0\n",
       "appearance__race          302\n",
       "Height                      1\n",
       "Weight                      0\n",
       "Eye-color                   0\n",
       "Hair-color                  0\n",
       "work__occupation            0\n",
       "work__base                  0\n",
       "Group                       0\n",
       "connections__relatives      0\n",
       "dtype: int64"
      ]
     },
     "execution_count": 549,
     "metadata": {},
     "output_type": "execute_result"
    }
   ],
   "source": [
    "powers.isna().sum()"
   ]
  },
  {
   "cell_type": "code",
   "execution_count": 550,
   "metadata": {},
   "outputs": [],
   "source": [
    "powers.drop(['appearance__race','Publisher'], axis=1, inplace=True)"
   ]
  },
  {
   "cell_type": "code",
   "execution_count": 551,
   "metadata": {},
   "outputs": [
    {
     "data": {
      "text/plain": [
       "Index(['hero_names', 'Intelligence', 'Strength', 'Speed', 'Durability',\n",
       "       'Power', 'Combat', 'Full_name', 'Alter-ego', 'Alias', 'Origin',\n",
       "       'First-appearance', 'Alignment', 'Gender', 'Height', 'Weight',\n",
       "       'Eye-color', 'Hair-color', 'work__occupation', 'work__base', 'Group',\n",
       "       'connections__relatives'],\n",
       "      dtype='object')"
      ]
     },
     "execution_count": 551,
     "metadata": {},
     "output_type": "execute_result"
    }
   ],
   "source": [
    "powers.columns"
   ]
  },
  {
   "cell_type": "code",
   "execution_count": 552,
   "metadata": {},
   "outputs": [
    {
     "data": {
      "text/plain": [
       "Index(['hero_names', 'Gender', 'Eye color', 'Race', 'Hair color', 'Publisher',\n",
       "       'Skin color', 'Alignment'],\n",
       "      dtype='object')"
      ]
     },
     "execution_count": 552,
     "metadata": {},
     "output_type": "execute_result"
    }
   ],
   "source": [
    "sups.columns"
   ]
  },
  {
   "cell_type": "code",
   "execution_count": 553,
   "metadata": {},
   "outputs": [],
   "source": [
    "powers.rename(columns={'Eye-color':'Eye color', 'connections__relatives':'Relatives'}, inplace=True)"
   ]
  },
  {
   "cell_type": "code",
   "execution_count": 554,
   "metadata": {},
   "outputs": [
    {
     "data": {
      "text/plain": [
       "Index(['hero_names', 'Intelligence', 'Strength', 'Speed', 'Durability',\n",
       "       'Power', 'Combat', 'Full_name', 'Alter-ego', 'Alias', 'Origin',\n",
       "       'First-appearance', 'Alignment', 'Gender', 'Height', 'Weight',\n",
       "       'Eye color', 'Hair-color', 'work__occupation', 'work__base', 'Group',\n",
       "       'Relatives'],\n",
       "      dtype='object')"
      ]
     },
     "execution_count": 554,
     "metadata": {},
     "output_type": "execute_result"
    }
   ],
   "source": [
    "powers.columns"
   ]
  },
  {
   "cell_type": "code",
   "execution_count": 555,
   "metadata": {},
   "outputs": [
    {
     "data": {
      "text/plain": [
       "hero_names            0\n",
       "Intelligence        165\n",
       "Strength            102\n",
       "Speed               165\n",
       "Durability          165\n",
       "Power               165\n",
       "Combat              165\n",
       "Full_name           101\n",
       "Alter-ego             0\n",
       "Alias                 0\n",
       "Origin                0\n",
       "First-appearance      0\n",
       "Alignment             0\n",
       "Gender                0\n",
       "Height                1\n",
       "Weight                0\n",
       "Eye color             0\n",
       "Hair-color            0\n",
       "work__occupation      0\n",
       "work__base            0\n",
       "Group                 0\n",
       "Relatives             0\n",
       "dtype: int64"
      ]
     },
     "execution_count": 555,
     "metadata": {},
     "output_type": "execute_result"
    }
   ],
   "source": [
    "powers.isna().sum()"
   ]
  },
  {
   "cell_type": "code",
   "execution_count": 556,
   "metadata": {},
   "outputs": [],
   "source": [
    "powers[\"Intelligence\"]= powers[\"Intelligence\"].fillna(powers[\"Intelligence\"].mean())\n",
    "powers[\"Strength\"]= powers[\"Strength\"].fillna(powers[\"Strength\"].mean())\n",
    "powers[\"Speed\"]= powers[\"Speed\"].fillna(powers[\"Speed\"].mean())\n",
    "powers[\"Durability\"]= powers[\"Durability\"].fillna(powers[\"Durability\"].mean())\n",
    "powers[\"Power\"]= powers[\"Power\"].fillna(powers[\"Power\"].mean())\n",
    "powers[\"Combat\"]= powers[\"Combat\"].fillna(powers[\"Combat\"].mean())"
   ]
  },
  {
   "cell_type": "code",
   "execution_count": 557,
   "metadata": {},
   "outputs": [
    {
     "data": {
      "text/plain": [
       "hero_names            0\n",
       "Intelligence          0\n",
       "Strength              0\n",
       "Speed                 0\n",
       "Durability            0\n",
       "Power                 0\n",
       "Combat                0\n",
       "Full_name           101\n",
       "Alter-ego             0\n",
       "Alias                 0\n",
       "Origin                0\n",
       "First-appearance      0\n",
       "Alignment             0\n",
       "Gender                0\n",
       "Height                1\n",
       "Weight                0\n",
       "Eye color             0\n",
       "Hair-color            0\n",
       "work__occupation      0\n",
       "work__base            0\n",
       "Group                 0\n",
       "Relatives             0\n",
       "dtype: int64"
      ]
     },
     "execution_count": 557,
     "metadata": {},
     "output_type": "execute_result"
    }
   ],
   "source": [
    "powers.isna().sum()"
   ]
  },
  {
   "cell_type": "code",
   "execution_count": 558,
   "metadata": {},
   "outputs": [],
   "source": [
    "powers.drop(['work__occupation', 'work__base'], axis=1 ,inplace=True)"
   ]
  },
  {
   "cell_type": "code",
   "execution_count": 559,
   "metadata": {},
   "outputs": [
    {
     "data": {
      "text/plain": [
       "array(['203 cm', '191 cm', '185 cm', '0 cm', '193 cm', '173 cm', '178 cm',\n",
       "       '188 cm', '180 cm', '244 cm', '257 cm', '183 cm', '165 cm',\n",
       "       '163 cm', '211 cm', '61.0 meters', '229 cm', '213 cm', '175 cm',\n",
       "       '198 cm', '168 cm', '170 cm', '201 cm', '218 cm', '30.5 meters',\n",
       "       '196 cm', '157 cm', '226 cm', nan, '267 cm', '122 cm', '975 cm',\n",
       "       '142 cm', '876 cm', '62.5 meters', '108.0 meters', '701 cm',\n",
       "       '259 cm', '79 cm', '155 cm', '71 cm', '287 cm', '234 cm', '64 cm',\n",
       "       '366 cm', '206 cm', '305 cm', '297 cm', '137 cm', '279 cm',\n",
       "       '15.2 meters', '140 cm', '160 cm', '304.8 meters', '66 cm'],\n",
       "      dtype=object)"
      ]
     },
     "execution_count": 559,
     "metadata": {},
     "output_type": "execute_result"
    }
   ],
   "source": [
    "powers['Height'].unique()"
   ]
  },
  {
   "cell_type": "code",
   "execution_count": 560,
   "metadata": {},
   "outputs": [],
   "source": [
    "power=powers.copy()"
   ]
  },
  {
   "cell_type": "code",
   "execution_count": 561,
   "metadata": {},
   "outputs": [
    {
     "data": {
      "text/html": [
       "<div>\n",
       "<style scoped>\n",
       "    .dataframe tbody tr th:only-of-type {\n",
       "        vertical-align: middle;\n",
       "    }\n",
       "\n",
       "    .dataframe tbody tr th {\n",
       "        vertical-align: top;\n",
       "    }\n",
       "\n",
       "    .dataframe thead th {\n",
       "        text-align: right;\n",
       "    }\n",
       "</style>\n",
       "<table border=\"1\" class=\"dataframe\">\n",
       "  <thead>\n",
       "    <tr style=\"text-align: right;\">\n",
       "      <th></th>\n",
       "      <th>hero_names</th>\n",
       "      <th>Intelligence</th>\n",
       "      <th>Strength</th>\n",
       "      <th>Speed</th>\n",
       "      <th>Durability</th>\n",
       "      <th>Power</th>\n",
       "      <th>Combat</th>\n",
       "      <th>Full_name</th>\n",
       "      <th>Alter-ego</th>\n",
       "      <th>Alias</th>\n",
       "      <th>Origin</th>\n",
       "      <th>First-appearance</th>\n",
       "      <th>Alignment</th>\n",
       "      <th>Gender</th>\n",
       "      <th>Height</th>\n",
       "      <th>Weight</th>\n",
       "      <th>Eye color</th>\n",
       "      <th>Hair-color</th>\n",
       "      <th>Group</th>\n",
       "      <th>Relatives</th>\n",
       "    </tr>\n",
       "  </thead>\n",
       "  <tbody>\n",
       "    <tr>\n",
       "      <th>0</th>\n",
       "      <td>A-Bomb</td>\n",
       "      <td>38.0</td>\n",
       "      <td>100.0</td>\n",
       "      <td>17.0</td>\n",
       "      <td>80.0</td>\n",
       "      <td>24.0</td>\n",
       "      <td>64.0</td>\n",
       "      <td>Richard Milhouse Jones</td>\n",
       "      <td>No alter egos found.</td>\n",
       "      <td>Rick Jones</td>\n",
       "      <td>Scarsdale, Arizona</td>\n",
       "      <td>Hulk Vol 2 #2 (April, 2008) (as A-Bomb)</td>\n",
       "      <td>good</td>\n",
       "      <td>Male</td>\n",
       "      <td>203 cm</td>\n",
       "      <td>441 kg</td>\n",
       "      <td>Yellow</td>\n",
       "      <td>No Hair</td>\n",
       "      <td>Hulk Family; Excelsior (sponsor), Avengers (ho...</td>\n",
       "      <td>Marlo Chandler-Jones (wife); Polly (aunt); Mrs...</td>\n",
       "    </tr>\n",
       "    <tr>\n",
       "      <th>1</th>\n",
       "      <td>Abe Sapien</td>\n",
       "      <td>88.0</td>\n",
       "      <td>28.0</td>\n",
       "      <td>35.0</td>\n",
       "      <td>65.0</td>\n",
       "      <td>100.0</td>\n",
       "      <td>85.0</td>\n",
       "      <td>Abraham Sapien</td>\n",
       "      <td>No alter egos found.</td>\n",
       "      <td>Langdon Everett Caul</td>\n",
       "      <td>-</td>\n",
       "      <td>Hellboy: Seed of Destruction (1993)</td>\n",
       "      <td>good</td>\n",
       "      <td>Male</td>\n",
       "      <td>191 cm</td>\n",
       "      <td>65 kg</td>\n",
       "      <td>Blue</td>\n",
       "      <td>No Hair</td>\n",
       "      <td>Bureau for Paranormal Research and Defense</td>\n",
       "      <td>Edith Howard (wife, deceased)</td>\n",
       "    </tr>\n",
       "    <tr>\n",
       "      <th>2</th>\n",
       "      <td>Abin Sur</td>\n",
       "      <td>50.0</td>\n",
       "      <td>90.0</td>\n",
       "      <td>53.0</td>\n",
       "      <td>64.0</td>\n",
       "      <td>99.0</td>\n",
       "      <td>65.0</td>\n",
       "      <td>NaN</td>\n",
       "      <td>No alter egos found.</td>\n",
       "      <td>Lagzia</td>\n",
       "      <td>Ungara</td>\n",
       "      <td>Showcase #22 (October, 1959)</td>\n",
       "      <td>good</td>\n",
       "      <td>Male</td>\n",
       "      <td>185 cm</td>\n",
       "      <td>90 kg</td>\n",
       "      <td>Blue</td>\n",
       "      <td>No Hair</td>\n",
       "      <td>Green Lantern Corps, Black Lantern Corps</td>\n",
       "      <td>Amon Sur (son), Arin Sur (sister), Thaal Sines...</td>\n",
       "    </tr>\n",
       "    <tr>\n",
       "      <th>3</th>\n",
       "      <td>Abomination</td>\n",
       "      <td>63.0</td>\n",
       "      <td>80.0</td>\n",
       "      <td>53.0</td>\n",
       "      <td>90.0</td>\n",
       "      <td>62.0</td>\n",
       "      <td>95.0</td>\n",
       "      <td>Emil Blonsky</td>\n",
       "      <td>No alter egos found.</td>\n",
       "      <td>Agent R-7</td>\n",
       "      <td>Zagreb, Yugoslavia</td>\n",
       "      <td>Tales to Astonish #90</td>\n",
       "      <td>bad</td>\n",
       "      <td>Male</td>\n",
       "      <td>203 cm</td>\n",
       "      <td>441 kg</td>\n",
       "      <td>Green</td>\n",
       "      <td>No Hair</td>\n",
       "      <td>former member of the crew of the Andromeda Sta...</td>\n",
       "      <td>Nadia Dornova Blonsky (wife, separated)</td>\n",
       "    </tr>\n",
       "    <tr>\n",
       "      <th>4</th>\n",
       "      <td>Abraxas</td>\n",
       "      <td>88.0</td>\n",
       "      <td>63.0</td>\n",
       "      <td>83.0</td>\n",
       "      <td>100.0</td>\n",
       "      <td>100.0</td>\n",
       "      <td>55.0</td>\n",
       "      <td>Abraxas</td>\n",
       "      <td>No alter egos found.</td>\n",
       "      <td>-</td>\n",
       "      <td>Within Eternity</td>\n",
       "      <td>Fantastic Four Annual #2001</td>\n",
       "      <td>bad</td>\n",
       "      <td>Male</td>\n",
       "      <td>0 cm</td>\n",
       "      <td>0 kg</td>\n",
       "      <td>Blue</td>\n",
       "      <td>Black</td>\n",
       "      <td>Cosmic Beings</td>\n",
       "      <td>Eternity (\"Father\")</td>\n",
       "    </tr>\n",
       "  </tbody>\n",
       "</table>\n",
       "</div>"
      ],
      "text/plain": [
       "    hero_names  Intelligence  Strength  Speed  Durability  Power  Combat  \\\n",
       "0       A-Bomb          38.0     100.0   17.0        80.0   24.0    64.0   \n",
       "1   Abe Sapien          88.0      28.0   35.0        65.0  100.0    85.0   \n",
       "2     Abin Sur          50.0      90.0   53.0        64.0   99.0    65.0   \n",
       "3  Abomination          63.0      80.0   53.0        90.0   62.0    95.0   \n",
       "4      Abraxas          88.0      63.0   83.0       100.0  100.0    55.0   \n",
       "\n",
       "                Full_name             Alter-ego                 Alias  \\\n",
       "0  Richard Milhouse Jones  No alter egos found.            Rick Jones   \n",
       "1          Abraham Sapien  No alter egos found.  Langdon Everett Caul   \n",
       "2                     NaN  No alter egos found.                Lagzia   \n",
       "3            Emil Blonsky  No alter egos found.             Agent R-7   \n",
       "4                 Abraxas  No alter egos found.                     -   \n",
       "\n",
       "               Origin                         First-appearance Alignment  \\\n",
       "0  Scarsdale, Arizona  Hulk Vol 2 #2 (April, 2008) (as A-Bomb)      good   \n",
       "1                   -      Hellboy: Seed of Destruction (1993)      good   \n",
       "2              Ungara             Showcase #22 (October, 1959)      good   \n",
       "3  Zagreb, Yugoslavia                    Tales to Astonish #90       bad   \n",
       "4     Within Eternity              Fantastic Four Annual #2001       bad   \n",
       "\n",
       "  Gender  Height  Weight Eye color Hair-color  \\\n",
       "0   Male  203 cm  441 kg    Yellow    No Hair   \n",
       "1   Male  191 cm   65 kg      Blue    No Hair   \n",
       "2   Male  185 cm   90 kg      Blue    No Hair   \n",
       "3   Male  203 cm  441 kg     Green    No Hair   \n",
       "4   Male    0 cm    0 kg      Blue      Black   \n",
       "\n",
       "                                               Group  \\\n",
       "0  Hulk Family; Excelsior (sponsor), Avengers (ho...   \n",
       "1         Bureau for Paranormal Research and Defense   \n",
       "2           Green Lantern Corps, Black Lantern Corps   \n",
       "3  former member of the crew of the Andromeda Sta...   \n",
       "4                                      Cosmic Beings   \n",
       "\n",
       "                                           Relatives  \n",
       "0  Marlo Chandler-Jones (wife); Polly (aunt); Mrs...  \n",
       "1                      Edith Howard (wife, deceased)  \n",
       "2  Amon Sur (son), Arin Sur (sister), Thaal Sines...  \n",
       "3            Nadia Dornova Blonsky (wife, separated)  \n",
       "4                                Eternity (\"Father\")  "
      ]
     },
     "execution_count": 561,
     "metadata": {},
     "output_type": "execute_result"
    }
   ],
   "source": [
    "power.head()"
   ]
  },
  {
   "cell_type": "code",
   "execution_count": 562,
   "metadata": {},
   "outputs": [],
   "source": [
    "import re\n",
    "\n",
    "# Extract the numeric value and the unit of measurement from each string\n",
    "power[['value', 'unit']] = power['Height'].str.extract(r'([\\d.]+)\\s*([a-zA-Z]+)', expand=True)\n",
    "power['value'] = power['value'].astype(float)\n",
    "\n",
    "# Convert the values in meters to centimeters\n",
    "power.loc[power['unit'] == 'meters', 'value'] = power.loc[power['unit'] == 'meters', 'value'].mul(100)\n",
    "\n",
    "# update the 'length' column with the new values\n",
    "power['Height'] = power['value'].astype(str) + ' ' + power['unit']\n"
   ]
  },
  {
   "cell_type": "code",
   "execution_count": 563,
   "metadata": {},
   "outputs": [],
   "source": [
    "power['height2']=power['Height'].str.replace(' cm','')"
   ]
  },
  {
   "cell_type": "code",
   "execution_count": 564,
   "metadata": {},
   "outputs": [],
   "source": [
    "power['height3']=power['height2'].str.replace(' meters','')"
   ]
  },
  {
   "cell_type": "code",
   "execution_count": 565,
   "metadata": {},
   "outputs": [],
   "source": [
    "power.drop(['height2', 'Height'], axis=1 ,inplace=True)"
   ]
  },
  {
   "cell_type": "code",
   "execution_count": 566,
   "metadata": {},
   "outputs": [],
   "source": [
    "power.drop(['value', 'unit'], axis=1 ,inplace=True)"
   ]
  },
  {
   "cell_type": "code",
   "execution_count": 567,
   "metadata": {},
   "outputs": [
    {
     "data": {
      "text/plain": [
       "Index(['hero_names', 'Intelligence', 'Strength', 'Speed', 'Durability',\n",
       "       'Power', 'Combat', 'Full_name', 'Alter-ego', 'Alias', 'Origin',\n",
       "       'First-appearance', 'Alignment', 'Gender', 'Weight', 'Eye color',\n",
       "       'Hair-color', 'Group', 'Relatives', 'height3'],\n",
       "      dtype='object')"
      ]
     },
     "execution_count": 567,
     "metadata": {},
     "output_type": "execute_result"
    }
   ],
   "source": [
    "power.columns"
   ]
  },
  {
   "cell_type": "code",
   "execution_count": 568,
   "metadata": {},
   "outputs": [],
   "source": [
    "power[['value', 'unit']] = power['Weight'].str.extract(r'([\\d.]+)\\s*([a-zA-Z]+)', expand=True)\n",
    "power['value'] = power['value'].astype(float)\n",
    "\n",
    "# Convert the values in meters to centimeters\n",
    "power.loc[power['unit'] == 'tons', 'value'] = power.loc[power['unit'] == 'tons', 'value'].mul(1000)\n",
    "\n",
    "# update the 'length' column with the new values\n",
    "power['Weight'] = power['value'].astype(str) + ' ' + power['unit']\n"
   ]
  },
  {
   "cell_type": "code",
   "execution_count": 569,
   "metadata": {},
   "outputs": [],
   "source": [
    "power['weight2']=power['Weight'].str.replace(' kg','')"
   ]
  },
  {
   "cell_type": "code",
   "execution_count": 570,
   "metadata": {},
   "outputs": [],
   "source": [
    "power['weight3']=power['weight2'].str.replace(' tons','')"
   ]
  },
  {
   "cell_type": "code",
   "execution_count": 571,
   "metadata": {},
   "outputs": [],
   "source": [
    "power.drop(['weight2', 'Weight', 'value', 'unit'], axis=1 ,inplace=True)"
   ]
  },
  {
   "cell_type": "code",
   "execution_count": 572,
   "metadata": {},
   "outputs": [],
   "source": [
    "power.drop(['Full_name','Alignment','Eye color', 'Hair-color'], axis=1 ,inplace=True)"
   ]
  },
  {
   "cell_type": "code",
   "execution_count": 573,
   "metadata": {},
   "outputs": [
    {
     "data": {
      "text/plain": [
       "Index(['hero_names', 'Intelligence', 'Strength', 'Speed', 'Durability',\n",
       "       'Power', 'Combat', 'Alter-ego', 'Alias', 'Origin', 'First-appearance',\n",
       "       'Gender', 'Group', 'Relatives', 'height3', 'weight3'],\n",
       "      dtype='object')"
      ]
     },
     "execution_count": 573,
     "metadata": {},
     "output_type": "execute_result"
    }
   ],
   "source": [
    "power.columns"
   ]
  },
  {
   "cell_type": "code",
   "execution_count": 574,
   "metadata": {},
   "outputs": [
    {
     "data": {
      "text/plain": [
       "hero_names          0\n",
       "Intelligence        0\n",
       "Strength            0\n",
       "Speed               0\n",
       "Durability          0\n",
       "Power               0\n",
       "Combat              0\n",
       "Alter-ego           0\n",
       "Alias               0\n",
       "Origin              0\n",
       "First-appearance    0\n",
       "Gender              0\n",
       "Group               0\n",
       "Relatives           0\n",
       "height3             1\n",
       "weight3             0\n",
       "dtype: int64"
      ]
     },
     "execution_count": 574,
     "metadata": {},
     "output_type": "execute_result"
    }
   ],
   "source": [
    "power.isna().sum()"
   ]
  },
  {
   "cell_type": "code",
   "execution_count": 575,
   "metadata": {},
   "outputs": [],
   "source": [
    "power=power.dropna()"
   ]
  },
  {
   "cell_type": "code",
   "execution_count": 576,
   "metadata": {},
   "outputs": [],
   "source": [
    "power.loc[power['First-appearance'] == '-','First-appearance'] = 'Unknown'\n",
    "power.loc[power['Alias'] == '-','Alias'] = 'Unknown'\n",
    "power.loc[power['Origin'] == '-','Origin'] = 'Unknown'\n",
    "power.loc[power['Group'] == '-','Group'] = 'Unknown'\n",
    "power.loc[power['Relatives'] == '-','Relatives'] = 'Unknown'\n",
    "power.loc[power['Gender'] == '-','Gender'] = 'Unknown'"
   ]
  },
  {
   "cell_type": "code",
   "execution_count": 577,
   "metadata": {},
   "outputs": [
    {
     "data": {
      "text/plain": [
       "(730, 16)"
      ]
     },
     "execution_count": 577,
     "metadata": {},
     "output_type": "execute_result"
    }
   ],
   "source": [
    "power.shape"
   ]
  },
  {
   "cell_type": "code",
   "execution_count": 578,
   "metadata": {},
   "outputs": [
    {
     "data": {
      "text/plain": [
       "(732, 8)"
      ]
     },
     "execution_count": 578,
     "metadata": {},
     "output_type": "execute_result"
    }
   ],
   "source": [
    "sups.shape"
   ]
  },
  {
   "cell_type": "code",
   "execution_count": 579,
   "metadata": {},
   "outputs": [
    {
     "data": {
      "text/plain": [
       "hero_names           object\n",
       "Intelligence        float64\n",
       "Strength            float64\n",
       "Speed               float64\n",
       "Durability          float64\n",
       "Power               float64\n",
       "Combat              float64\n",
       "Alter-ego            object\n",
       "Alias                object\n",
       "Origin               object\n",
       "First-appearance     object\n",
       "Gender               object\n",
       "Group                object\n",
       "Relatives            object\n",
       "height3              object\n",
       "weight3              object\n",
       "dtype: object"
      ]
     },
     "execution_count": 579,
     "metadata": {},
     "output_type": "execute_result"
    }
   ],
   "source": [
    "power.dtypes"
   ]
  },
  {
   "cell_type": "code",
   "execution_count": 580,
   "metadata": {},
   "outputs": [],
   "source": [
    "power = power.rename(columns={'height3': 'Height', 'weight3':'Weight'})"
   ]
  },
  {
   "cell_type": "code",
   "execution_count": 581,
   "metadata": {},
   "outputs": [
    {
     "data": {
      "text/plain": [
       "Index(['hero_names', 'Intelligence', 'Strength', 'Speed', 'Durability',\n",
       "       'Power', 'Combat', 'Alter-ego', 'Alias', 'Origin', 'First-appearance',\n",
       "       'Gender', 'Group', 'Relatives', 'Height', 'Weight'],\n",
       "      dtype='object')"
      ]
     },
     "execution_count": 581,
     "metadata": {},
     "output_type": "execute_result"
    }
   ],
   "source": [
    "power.columns"
   ]
  },
  {
   "cell_type": "code",
   "execution_count": 582,
   "metadata": {},
   "outputs": [],
   "source": [
    "power = power.astype({'Weight': float, 'Height': float})\n"
   ]
  },
  {
   "cell_type": "code",
   "execution_count": 583,
   "metadata": {},
   "outputs": [
    {
     "data": {
      "text/plain": [
       "hero_names           object\n",
       "Intelligence        float64\n",
       "Strength            float64\n",
       "Speed               float64\n",
       "Durability          float64\n",
       "Power               float64\n",
       "Combat              float64\n",
       "Alter-ego            object\n",
       "Alias                object\n",
       "Origin               object\n",
       "First-appearance     object\n",
       "Gender               object\n",
       "Group                object\n",
       "Relatives            object\n",
       "Height              float64\n",
       "Weight              float64\n",
       "dtype: object"
      ]
     },
     "execution_count": 583,
     "metadata": {},
     "output_type": "execute_result"
    }
   ],
   "source": [
    "power.dtypes"
   ]
  },
  {
   "cell_type": "code",
   "execution_count": 584,
   "metadata": {},
   "outputs": [
    {
     "data": {
      "text/plain": [
       "(730, 16)"
      ]
     },
     "execution_count": 584,
     "metadata": {},
     "output_type": "execute_result"
    }
   ],
   "source": [
    "power.shape"
   ]
  },
  {
   "cell_type": "code",
   "execution_count": 585,
   "metadata": {},
   "outputs": [
    {
     "data": {
      "text/plain": [
       "(732, 8)"
      ]
     },
     "execution_count": 585,
     "metadata": {},
     "output_type": "execute_result"
    }
   ],
   "source": [
    "sups.shape"
   ]
  },
  {
   "cell_type": "code",
   "execution_count": 586,
   "metadata": {},
   "outputs": [],
   "source": [
    "merged_df = pd.merge(sups, power, on=['hero_names','Gender'], suffixes=('_sups', '_power'))\n"
   ]
  },
  {
   "cell_type": "code",
   "execution_count": 587,
   "metadata": {},
   "outputs": [
    {
     "data": {
      "text/plain": [
       "(758, 22)"
      ]
     },
     "execution_count": 587,
     "metadata": {},
     "output_type": "execute_result"
    }
   ],
   "source": [
    "merged_df.shape"
   ]
  },
  {
   "cell_type": "code",
   "execution_count": 588,
   "metadata": {},
   "outputs": [],
   "source": [
    "merg=merged_df.drop_duplicates(keep='first')"
   ]
  },
  {
   "cell_type": "code",
   "execution_count": 589,
   "metadata": {},
   "outputs": [
    {
     "data": {
      "text/plain": [
       "(753, 22)"
      ]
     },
     "execution_count": 589,
     "metadata": {},
     "output_type": "execute_result"
    }
   ],
   "source": [
    "merg.shape"
   ]
  },
  {
   "cell_type": "code",
   "execution_count": 590,
   "metadata": {},
   "outputs": [
    {
     "data": {
      "text/plain": [
       "Spider-Man         3\n",
       "Goliath            3\n",
       "Captain Marvel     2\n",
       "Blue Beetle        2\n",
       "Toxin              2\n",
       "                  ..\n",
       "Feral              1\n",
       "Fighting Spirit    1\n",
       "Fin Fang Foom      1\n",
       "Firebird           1\n",
       "Zoom               1\n",
       "Name: hero_names, Length: 711, dtype: int64"
      ]
     },
     "execution_count": 590,
     "metadata": {},
     "output_type": "execute_result"
    }
   ],
   "source": [
    "power['hero_names'].value_counts()"
   ]
  },
  {
   "cell_type": "code",
   "execution_count": 591,
   "metadata": {},
   "outputs": [
    {
     "data": {
      "text/plain": [
       "Spider-Man         3\n",
       "Goliath            3\n",
       "Captain Marvel     2\n",
       "Blue Beetle        2\n",
       "Toxin              2\n",
       "                  ..\n",
       "Feral              1\n",
       "Fighting Spirit    1\n",
       "Fin Fang Foom      1\n",
       "Firebird           1\n",
       "Zoom               1\n",
       "Name: hero_names, Length: 713, dtype: int64"
      ]
     },
     "execution_count": 591,
     "metadata": {},
     "output_type": "execute_result"
    }
   ],
   "source": [
    "sups['hero_names'].value_counts()"
   ]
  },
  {
   "cell_type": "code",
   "execution_count": 592,
   "metadata": {},
   "outputs": [
    {
     "data": {
      "text/plain": [
       "Goliath            9\n",
       "Spider-Man         5\n",
       "Batgirl            4\n",
       "Blizzard           4\n",
       "Batman             4\n",
       "                  ..\n",
       "Feral              1\n",
       "Fighting Spirit    1\n",
       "Fin Fang Foom      1\n",
       "Firebird           1\n",
       "Zoom               1\n",
       "Name: hero_names, Length: 709, dtype: int64"
      ]
     },
     "execution_count": 592,
     "metadata": {},
     "output_type": "execute_result"
    }
   ],
   "source": [
    "merged_df['hero_names'].value_counts()"
   ]
  },
  {
   "cell_type": "code",
   "execution_count": 593,
   "metadata": {},
   "outputs": [],
   "source": [
    "sups.to_excel('sups.xlsx')"
   ]
  },
  {
   "cell_type": "code",
   "execution_count": 594,
   "metadata": {},
   "outputs": [],
   "source": [
    "power.to_excel('power.xlsx')"
   ]
  },
  {
   "cell_type": "code",
   "execution_count": 596,
   "metadata": {},
   "outputs": [
    {
     "data": {
      "text/plain": [
       "array(['Good', 'Bad', 'Unknown', 'Neutral'], dtype=object)"
      ]
     },
     "execution_count": 596,
     "metadata": {},
     "output_type": "execute_result"
    }
   ],
   "source": [
    "sups['Alignment'].unique()"
   ]
  },
  {
   "cell_type": "code",
   "execution_count": null,
   "metadata": {},
   "outputs": [],
   "source": []
  }
 ],
 "metadata": {
  "kernelspec": {
   "display_name": "base",
   "language": "python",
   "name": "python3"
  },
  "language_info": {
   "codemirror_mode": {
    "name": "ipython",
    "version": 3
   },
   "file_extension": ".py",
   "mimetype": "text/x-python",
   "name": "python",
   "nbconvert_exporter": "python",
   "pygments_lexer": "ipython3",
   "version": "3.9.7"
  },
  "orig_nbformat": 4,
  "vscode": {
   "interpreter": {
    "hash": "5f93d0ed2cacba8107dbd9183fc4123c43b014088e4ae4598339190fdfe0ef54"
   }
  }
 },
 "nbformat": 4,
 "nbformat_minor": 2
}
